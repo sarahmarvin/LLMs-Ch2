{
 "cells": [
  {
   "metadata": {},
   "cell_type": "markdown",
   "source": [
    "# Chapter 3 Exercises\n",
    "\n",
    "## Sarah Marvin\n"
   ],
   "id": "47b56fddbfd23ac5"
  },
  {
   "metadata": {
    "ExecuteTime": {
     "end_time": "2025-04-01T15:27:25.384791Z",
     "start_time": "2025-04-01T15:27:01.948058Z"
    }
   },
   "cell_type": "code",
   "source": [
    "from importlib.metadata import version\n",
    "\n",
    "import torch\n",
    "print(\"torch version:\", version(\"torch\"))"
   ],
   "id": "68844ca36293f1de",
   "outputs": [
    {
     "name": "stdout",
     "output_type": "stream",
     "text": [
      "torch version: 2.2.2\n"
     ]
    }
   ],
   "execution_count": 1
  },
  {
   "metadata": {},
   "cell_type": "markdown",
   "source": "## Chapter 3 Exercises 3.1",
   "id": "e0baf49a41aae787"
  },
  {
   "metadata": {
    "ExecuteTime": {
     "end_time": "2025-04-01T15:29:33.201083Z",
     "start_time": "2025-04-01T15:29:33.175447Z"
    }
   },
   "cell_type": "code",
   "source": [
    "inputs = torch.tensor(\n",
    "  [[0.43, 0.15, 0.89], # Your     (x^1)\n",
    "   [0.55, 0.87, 0.66], # journey  (x^2)\n",
    "   [0.57, 0.85, 0.64], # starts   (x^3)\n",
    "   [0.22, 0.58, 0.33], # with     (x^4)\n",
    "   [0.77, 0.25, 0.10], # one      (x^5)\n",
    "   [0.05, 0.80, 0.55]] # step     (x^6)\n",
    ")\n",
    "\n",
    "d_in, d_out = 3, 2"
   ],
   "id": "fefb9e9528738f5e",
   "outputs": [],
   "execution_count": 2
  },
  {
   "metadata": {
    "ExecuteTime": {
     "end_time": "2025-04-01T15:29:47.959452Z",
     "start_time": "2025-04-01T15:29:47.939597Z"
    }
   },
   "cell_type": "code",
   "source": [
    "import torch.nn as nn\n",
    "\n",
    "class SelfAttention_v1(nn.Module):\n",
    "\n",
    "    def __init__(self, d_in, d_out):\n",
    "        super().__init__()\n",
    "        self.d_out = d_out\n",
    "        self.W_query = nn.Parameter(torch.rand(d_in, d_out))\n",
    "        self.W_key   = nn.Parameter(torch.rand(d_in, d_out))\n",
    "        self.W_value = nn.Parameter(torch.rand(d_in, d_out))\n",
    "\n",
    "    def forward(self, x):\n",
    "        keys = x @ self.W_key\n",
    "        queries = x @ self.W_query\n",
    "        values = x @ self.W_value\n",
    "\n",
    "        attn_scores = queries @ keys.T # omega\n",
    "        attn_weights = torch.softmax(attn_scores / keys.shape[-1]**0.5, dim=-1)\n",
    "\n",
    "        context_vec = attn_weights @ values\n",
    "        return context_vec\n",
    "\n",
    "torch.manual_seed(123)\n",
    "sa_v1 = SelfAttention_v1(d_in, d_out)"
   ],
   "id": "33927bab5fb8721f",
   "outputs": [],
   "execution_count": 3
  },
  {
   "metadata": {
    "ExecuteTime": {
     "end_time": "2025-04-01T15:29:49.679783Z",
     "start_time": "2025-04-01T15:29:49.670557Z"
    }
   },
   "cell_type": "code",
   "source": [
    "class SelfAttention_v2(nn.Module):\n",
    "\n",
    "    def __init__(self, d_in, d_out):\n",
    "        super().__init__()\n",
    "        self.d_out = d_out\n",
    "        self.W_query = nn.Linear(d_in, d_out, bias=False)\n",
    "        self.W_key   = nn.Linear(d_in, d_out, bias=False)\n",
    "        self.W_value = nn.Linear(d_in, d_out, bias=False)\n",
    "\n",
    "    def forward(self, x):\n",
    "        keys = self.W_key(x)\n",
    "        queries = self.W_query(x)\n",
    "        values = self.W_value(x)\n",
    "\n",
    "        attn_scores = queries @ keys.T\n",
    "        attn_weights = torch.softmax(attn_scores / keys.shape[-1]**0.5, dim=1)\n",
    "\n",
    "        context_vec = attn_weights @ values\n",
    "        return context_vec\n",
    "\n",
    "torch.manual_seed(123)\n",
    "sa_v2 = SelfAttention_v2(d_in, d_out)"
   ],
   "id": "289361075ac7393a",
   "outputs": [],
   "execution_count": 4
  },
  {
   "metadata": {
    "ExecuteTime": {
     "end_time": "2025-04-01T15:29:52.042492Z",
     "start_time": "2025-04-01T15:29:52.034728Z"
    }
   },
   "cell_type": "code",
   "source": [
    "sa_v1.W_query = torch.nn.Parameter(sa_v2.W_query.weight.T)\n",
    "sa_v1.W_key = torch.nn.Parameter(sa_v2.W_key.weight.T)\n",
    "sa_v1.W_value = torch.nn.Parameter(sa_v2.W_value.weight.T)\n"
   ],
   "id": "433630e377aa2b89",
   "outputs": [],
   "execution_count": 5
  },
  {
   "metadata": {
    "ExecuteTime": {
     "end_time": "2025-04-01T15:29:53.086946Z",
     "start_time": "2025-04-01T15:29:53.064976Z"
    }
   },
   "cell_type": "code",
   "source": "sa_v1(inputs)",
   "id": "74832397a23a8d61",
   "outputs": [
    {
     "data": {
      "text/plain": [
       "tensor([[-0.5337, -0.1051],\n",
       "        [-0.5323, -0.1080],\n",
       "        [-0.5323, -0.1079],\n",
       "        [-0.5297, -0.1076],\n",
       "        [-0.5311, -0.1066],\n",
       "        [-0.5299, -0.1081]], grad_fn=<MmBackward0>)"
      ]
     },
     "execution_count": 6,
     "metadata": {},
     "output_type": "execute_result"
    }
   ],
   "execution_count": 6
  },
  {
   "metadata": {
    "ExecuteTime": {
     "end_time": "2025-04-01T15:30:38.458117Z",
     "start_time": "2025-04-01T15:30:38.445572Z"
    }
   },
   "cell_type": "code",
   "source": "sa_v2(inputs)",
   "id": "cbfec9695111d821",
   "outputs": [
    {
     "data": {
      "text/plain": [
       "tensor([[-0.5337, -0.1051],\n",
       "        [-0.5323, -0.1080],\n",
       "        [-0.5323, -0.1079],\n",
       "        [-0.5297, -0.1076],\n",
       "        [-0.5311, -0.1066],\n",
       "        [-0.5299, -0.1081]], grad_fn=<MmBackward0>)"
      ]
     },
     "execution_count": 7,
     "metadata": {},
     "output_type": "execute_result"
    }
   ],
   "execution_count": 7
  },
  {
   "metadata": {},
   "cell_type": "markdown",
   "source": "## Chapter 3 Exercises 3.2\n",
   "id": "aea724ebb531f755"
  },
  {
   "metadata": {},
   "cell_type": "markdown",
   "source": [
    "```python\n",
    "torch.manual_seed(123)\n",
    "\n",
    "d_out = 1\n",
    "mha = MultiHeadAttentionWrapper(d_in, d_out, context_length, 0.0, num_heads=2)\n",
    "\n",
    "context_vecs = mha(batch)\n",
    "\n",
    "print(context_vecs)\n",
    "print(\"context_vecs.shape:\", context_vecs.shape)\n",
    "```"
   ],
   "id": "2329017a48db347d"
  },
  {
   "metadata": {},
   "cell_type": "markdown",
   "source": [
    "```\n",
    "tensor([[[-9.1476e-02,  3.4164e-02],\n",
    "         [-2.6796e-01, -1.3427e-03],\n",
    "         [-4.8421e-01, -4.8909e-02],\n",
    "         [-6.4808e-01, -1.0625e-01],\n",
    "         [-8.8380e-01, -1.7140e-01],\n",
    "         [-1.4744e+00, -3.4327e-01]],\n",
    "\n",
    "        [[-9.1476e-02,  3.4164e-02],\n",
    "         [-2.6796e-01, -1.3427e-03],\n",
    "         [-4.8421e-01, -4.8909e-02],\n",
    "         [-6.4808e-01, -1.0625e-01],\n",
    "         [-8.8380e-01, -1.7140e-01],\n",
    "         [-1.4744e+00, -3.4327e-01]]], grad_fn=<CatBackward0>)\n",
    "context_vecs.shape: torch.Size([2, 6, 2])\n",
    "```"
   ],
   "id": "c8f7dedb0535e66f"
  },
  {
   "metadata": {},
   "cell_type": "markdown",
   "source": "## Chapter 3 Exercises 3.3",
   "id": "5443929d40c7d0d4"
  },
  {
   "metadata": {},
   "cell_type": "markdown",
   "source": [
    "```python\n",
    "context_length = 1024\n",
    "d_in, d_out = 768, 768\n",
    "num_heads = 12\n",
    "\n",
    "mha = MultiHeadAttention(d_in, d_out, context_length, 0.0, num_heads)\n",
    "```"
   ],
   "id": "34e4d3332cb4bf5"
  },
  {
   "metadata": {},
   "cell_type": "markdown",
   "source": [
    "```python\n",
    "def count_parameters(model):\n",
    "    return sum(p.numel() for p in model.parameters() if p.requires_grad)\n",
    "\n",
    "count_parameters(mha)\n",
    "```"
   ],
   "id": "1d8cf29f09c8c5a2"
  },
  {
   "metadata": {},
   "cell_type": "markdown",
   "source": [
    "```\n",
    "2360064  # (2.36 M)\n",
    "```"
   ],
   "id": "7e94f9ef4f7d714f"
  }
 ],
 "metadata": {
  "kernelspec": {
   "display_name": "Python 3",
   "language": "python",
   "name": "python3"
  },
  "language_info": {
   "codemirror_mode": {
    "name": "ipython",
    "version": 2
   },
   "file_extension": ".py",
   "mimetype": "text/x-python",
   "name": "python",
   "nbconvert_exporter": "python",
   "pygments_lexer": "ipython2",
   "version": "2.7.6"
  }
 },
 "nbformat": 4,
 "nbformat_minor": 5
}
